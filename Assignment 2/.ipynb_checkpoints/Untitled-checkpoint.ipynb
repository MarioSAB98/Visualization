{
 "cells": [
  {
   "cell_type": "code",
   "execution_count": 242,
   "id": "55c440ab",
   "metadata": {},
   "outputs": [],
   "source": [
    "import pandas as pd\n",
    "import ipywidgets as widgets\n",
    "import seaborn as sns"
   ]
  },
  {
   "cell_type": "code",
   "execution_count": 243,
   "id": "5e6c11e2",
   "metadata": {},
   "outputs": [],
   "source": [
    "df = pd.read_csv('LOL Champions.csv')"
   ]
  },
  {
   "cell_type": "code",
   "execution_count": 244,
   "id": "b7d06b6a",
   "metadata": {},
   "outputs": [],
   "source": [
    "df_champion = df[['Name','Role','Tier','Score']]"
   ]
  },
  {
   "cell_type": "code",
   "execution_count": 245,
   "id": "e9fe2b01",
   "metadata": {},
   "outputs": [],
   "source": [
    "def create_figure(tier, role, score): \n",
    "\n",
    "    data1 = df_champion[df_champion['Tier']==tier]\n",
    "    data2 = data1[df_champion['Role']==role]\n",
    "    dataf = data2[df_champion['Score']>score]\n",
    "    sns.set(rc = {'figure.figsize':(20,8)})\n",
    "    sns.barplot(x=\"Name\", y =\"Score\", data = dataf)"
   ]
  },
  {
   "cell_type": "code",
   "execution_count": 246,
   "id": "726a81de",
   "metadata": {},
   "outputs": [],
   "source": [
    "tier_rb = widgets.RadioButtons(\n",
    "    options = [\"God\", \"S\", \"A\", \"B\", \"C\", \"D\"],\n",
    "    value = \"God\"\n",
    ")"
   ]
  },
  {
   "cell_type": "code",
   "execution_count": 247,
   "id": "a396905f",
   "metadata": {},
   "outputs": [
    {
     "data": {
      "application/vnd.jupyter.widget-view+json": {
       "model_id": "29b3ccb2f9a74dd3b5851ce1f6cc257b",
       "version_major": 2,
       "version_minor": 0
      },
      "text/plain": [
       "interactive(children=(RadioButtons(description='tier', options=('God', 'S', 'A', 'B', 'C', 'D'), value='God'),…"
      ]
     },
     "metadata": {},
     "output_type": "display_data"
    },
    {
     "data": {
      "text/plain": [
       "<function __main__.create_figure(tier, role, score)>"
      ]
     },
     "execution_count": 247,
     "metadata": {},
     "output_type": "execute_result"
    }
   ],
   "source": [
    "widgets.interact(create_figure, tier = tier_rb, role=[\"TOP\", \"MID\", \"JUNGLE\", \"ADC\", \"SUPPORT\"], score=(0,80))\n"
   ]
  },
  {
   "cell_type": "code",
   "execution_count": null,
   "id": "b5f52d88",
   "metadata": {},
   "outputs": [],
   "source": []
  }
 ],
 "metadata": {
  "kernelspec": {
   "display_name": "Python 3 (ipykernel)",
   "language": "python",
   "name": "python3"
  },
  "language_info": {
   "codemirror_mode": {
    "name": "ipython",
    "version": 3
   },
   "file_extension": ".py",
   "mimetype": "text/x-python",
   "name": "python",
   "nbconvert_exporter": "python",
   "pygments_lexer": "ipython3",
   "version": "3.10.1"
  }
 },
 "nbformat": 4,
 "nbformat_minor": 5
}
